{
 "cells": [
  {
   "cell_type": "code",
   "execution_count": 1,
   "metadata": {},
   "outputs": [],
   "source": [
    "from IPython.core.interactiveshell import InteractiveShell\n",
    "InteractiveShell.ast_node_interactivity = \"all\"\n",
    "import pandas as pd\n",
    "import numpy as np\n",
    "from IPython.display import clear_output"
   ]
  },
  {
   "cell_type": "code",
   "execution_count": 2,
   "metadata": {},
   "outputs": [],
   "source": [
    "from ff_espn_api import League"
   ]
  },
  {
   "cell_type": "code",
   "execution_count": 40,
   "metadata": {},
   "outputs": [],
   "source": [
    "# Varberg-Lindquist League\n",
    "league_id = 1086928\n",
    "year = 2019\n",
    "swid = input();\n",
    "espn_s2 = input();\n",
    "clear_output()\n",
    "league = League(league_id, year, espn_s2, swid)"
   ]
  },
  {
   "cell_type": "code",
   "execution_count": 51,
   "metadata": {},
   "outputs": [],
   "source": [
    "# Mounds View League\n",
    "league_id = 200140\n",
    "year = 2019\n",
    "swid = input();\n",
    "espn_s2 = input();\n",
    "clear_output()\n",
    "league2 = League(league_id, year, espn_s2, swid)"
   ]
  },
  {
   "cell_type": "code",
   "execution_count": 77,
   "metadata": {},
   "outputs": [],
   "source": [
    "names_to_espn = {\n",
    "    'LeVeon Bell': \"Le'Veon Bell\",\n",
    "    'Odell Beckham': 'Odell Beckham Jr.',\n",
    "    'Todd Gurley': 'Todd Gurley II',\n",
    "    'Mark Ingram': 'Mark Ingram II',\n",
    "    'D.J. Moore': 'DJ Moore',\n",
    "    'Will Fuller': 'Will Fuller V',\n",
    "    'Marvin Jones':'Marvin Jones Jr.',\n",
    "    'Rams': 'Rams D/ST',\n",
    "    'Duke Johnson': 'Duke Johnson Jr.',\n",
    "    'Ravens': 'Ravens D/ST',\n",
    "    'Jaguars': 'Jaguars D/ST',\n",
    "    'Vikings': 'Vikings D/ST',\n",
    "    'Chargers': 'Chargers D/ST',\n",
    "    'Texans': 'Texans D/ST',\n",
    "    'Kaimi Fairbairn': 'Ka\\'imi Fairbairn',\n",
    "    'Browns': 'Browns D/ST',\n",
    "    'Raiders': 'Raiders D/ST',\n",
    "    'Giants': 'Giants D/ST',\n",
    "    'Bears': 'Bears D/ST',\n",
    "    'Steven Hauschka': 'Stephen Hauschka',\n",
    "}"
   ]
  },
  {
   "cell_type": "code",
   "execution_count": 79,
   "metadata": {},
   "outputs": [],
   "source": [
    "# Load FFA projections\n",
    "ffa = pd.read_csv('FFA_Projections_2019.csv')\n",
    "players_teams_ffa = ffa['Player (Team)'].tolist()\n",
    "player_names_ffa = []\n",
    "for name in players_teams_ffa:\n",
    "    indx = name.find('(')\n",
    "    new_name = name[0:indx-1]\n",
    "    if new_name in list(names_to_espn.keys()):\n",
    "        new_name = names_to_espn[new_name]\n",
    "    player_names_ffa.append(new_name)\n",
    "ffa['name_espn'] = player_names_ffa"
   ]
  },
  {
   "cell_type": "code",
   "execution_count": 59,
   "metadata": {},
   "outputs": [],
   "source": [
    "# Create list of player objects and player names from espn\n",
    "players_espn = []\n",
    "player_names_espn = []\n",
    "for player in league.free_agents(size = 300):\n",
    "    players_espn.append(player)\n",
    "    player_names_espn.append(player.name)\n",
    "for player in league2.free_agents(size = 300):\n",
    "    if player not in players_espn:\n",
    "        players_espn.append(player)\n",
    "        player_names_espn.append(player.name)"
   ]
  },
  {
   "cell_type": "code",
   "execution_count": 86,
   "metadata": {},
   "outputs": [
    {
     "name": "stdout",
     "output_type": "stream",
     "text": [
      "Names in ffa that do not have match in espn:\n",
      "- Greg Joseph\n",
      "- Tyler Higbee\n"
     ]
    }
   ],
   "source": [
    "# Check for names in ffa not matching espn\n",
    "print('Names in ffa that do not have match in espn:')\n",
    "for name in player_names_ffa:\n",
    "    if(name not in player_names_espn):\n",
    "        print('- '+ name)"
   ]
  },
  {
   "cell_type": "code",
   "execution_count": 93,
   "metadata": {},
   "outputs": [],
   "source": [
    "# Re-write old csv vith new version\n",
    "ffa.to_csv('FFA_Projections_2019.csv')"
   ]
  },
  {
   "cell_type": "code",
   "execution_count": null,
   "metadata": {},
   "outputs": [],
   "source": []
  }
 ],
 "metadata": {
  "kernelspec": {
   "display_name": "Python 3",
   "language": "python",
   "name": "python3"
  },
  "language_info": {
   "codemirror_mode": {
    "name": "ipython",
    "version": 3
   },
   "file_extension": ".py",
   "mimetype": "text/x-python",
   "name": "python",
   "nbconvert_exporter": "python",
   "pygments_lexer": "ipython3",
   "version": "3.6.4"
  }
 },
 "nbformat": 4,
 "nbformat_minor": 2
}
