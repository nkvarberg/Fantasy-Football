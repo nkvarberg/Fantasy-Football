{
 "cells": [
  {
   "cell_type": "code",
   "execution_count": 3,
   "metadata": {},
   "outputs": [],
   "source": [
    "from IPython.core.interactiveshell import InteractiveShell\n",
    "InteractiveShell.ast_node_interactivity = \"all\"\n",
    "import pandas as pd\n",
    "import numpy as np\n",
    "from IPython.display import clear_output"
   ]
  },
  {
   "cell_type": "code",
   "execution_count": 4,
   "metadata": {},
   "outputs": [],
   "source": [
    "from ff_espn_api import League"
   ]
  },
  {
   "cell_type": "code",
   "execution_count": 5,
   "metadata": {},
   "outputs": [],
   "source": [
    "league_id = 1086928\n",
    "year = 2018\n",
    "swid = input();\n",
    "espn_s2 = input();\n",
    "league = League(league_id, year, espn_s2, swid)\n",
    "clear_output()"
   ]
  },
  {
   "cell_type": "code",
   "execution_count": 13,
   "metadata": {},
   "outputs": [
    {
     "data": {
      "text/html": [
       "<div>\n",
       "<style scoped>\n",
       "    .dataframe tbody tr th:only-of-type {\n",
       "        vertical-align: middle;\n",
       "    }\n",
       "\n",
       "    .dataframe tbody tr th {\n",
       "        vertical-align: top;\n",
       "    }\n",
       "\n",
       "    .dataframe thead th {\n",
       "        text-align: right;\n",
       "    }\n",
       "</style>\n",
       "<table border=\"1\" class=\"dataframe\">\n",
       "  <thead>\n",
       "    <tr style=\"text-align: right;\">\n",
       "      <th></th>\n",
       "      <th>team</th>\n",
       "      <th>Wins</th>\n",
       "      <th>Losses</th>\n",
       "      <th>PPG</th>\n",
       "      <th>std_dev</th>\n",
       "    </tr>\n",
       "    <tr>\n",
       "      <th>Owner</th>\n",
       "      <th></th>\n",
       "      <th></th>\n",
       "      <th></th>\n",
       "      <th></th>\n",
       "      <th></th>\n",
       "    </tr>\n",
       "  </thead>\n",
       "  <tbody>\n",
       "    <tr>\n",
       "      <th>Nick</th>\n",
       "      <td>Baker Mayfield bro'd me</td>\n",
       "      <td>5</td>\n",
       "      <td>0</td>\n",
       "      <td>107.6</td>\n",
       "      <td>19.4</td>\n",
       "    </tr>\n",
       "    <tr>\n",
       "      <th>Zach</th>\n",
       "      <td>Winning is just my Forte</td>\n",
       "      <td>4</td>\n",
       "      <td>1</td>\n",
       "      <td>108.2</td>\n",
       "      <td>20.0</td>\n",
       "    </tr>\n",
       "    <tr>\n",
       "      <th>Jord</th>\n",
       "      <td>I Have Adrian ... Again</td>\n",
       "      <td>3</td>\n",
       "      <td>2</td>\n",
       "      <td>108.4</td>\n",
       "      <td>17.1</td>\n",
       "    </tr>\n",
       "    <tr>\n",
       "      <th>Drew</th>\n",
       "      <td>U of Cal - Berk Oski the Bear</td>\n",
       "      <td>3</td>\n",
       "      <td>2</td>\n",
       "      <td>127.2</td>\n",
       "      <td>33.0</td>\n",
       "    </tr>\n",
       "    <tr>\n",
       "      <th>Tom</th>\n",
       "      <td>Kirk and Dak LLC</td>\n",
       "      <td>2</td>\n",
       "      <td>3</td>\n",
       "      <td>127.8</td>\n",
       "      <td>16.2</td>\n",
       "    </tr>\n",
       "    <tr>\n",
       "      <th>Tim</th>\n",
       "      <td>Team Tim</td>\n",
       "      <td>2</td>\n",
       "      <td>3</td>\n",
       "      <td>109.2</td>\n",
       "      <td>10.6</td>\n",
       "    </tr>\n",
       "    <tr>\n",
       "      <th>nath</th>\n",
       "      <td>Kelce  Kapistrant</td>\n",
       "      <td>1</td>\n",
       "      <td>4</td>\n",
       "      <td>130.2</td>\n",
       "      <td>23.0</td>\n",
       "    </tr>\n",
       "    <tr>\n",
       "      <th>Tmmy</th>\n",
       "      <td>Reigning  Champion</td>\n",
       "      <td>0</td>\n",
       "      <td>5</td>\n",
       "      <td>126.8</td>\n",
       "      <td>12.1</td>\n",
       "    </tr>\n",
       "  </tbody>\n",
       "</table>\n",
       "</div>"
      ],
      "text/plain": [
       "                                team  Wins  Losses    PPG  std_dev\n",
       "Owner                                                             \n",
       "Nick         Baker Mayfield bro'd me     5       0  107.6     19.4\n",
       "Zach        Winning is just my Forte     4       1  108.2     20.0\n",
       "Jord         I Have Adrian ... Again     3       2  108.4     17.1\n",
       "Drew   U of Cal - Berk Oski the Bear     3       2  127.2     33.0\n",
       "Tom                 Kirk and Dak LLC     2       3  127.8     16.2\n",
       "Tim                         Team Tim     2       3  109.2     10.6\n",
       "nath               Kelce  Kapistrant     1       4  130.2     23.0\n",
       "Tmmy              Reigning  Champion     0       5  126.8     12.1"
      ]
     },
     "execution_count": 13,
     "metadata": {},
     "output_type": "execute_result"
    }
   ],
   "source": [
    "# change this later so we don't need week\n",
    "num_weeks = 11\n",
    "week = 5\n",
    "tm_nm_list = []\n",
    "abbrev = []\n",
    "wins = []\n",
    "losses = []\n",
    "ppg_list = []\n",
    "std_dev_list = []\n",
    "for team in league.teams:\n",
    "    tm_nm_list.append(team.team_name)\n",
    "    abbrev.append(team.team_abbrev)\n",
    "    wins.append(team.wins)\n",
    "    losses.append(team.losses)\n",
    "    ppg = np.round(sum(team.scores[0:week])/week,2)\n",
    "    team.ppg = ppg\n",
    "    ppg_list.append(team.ppg)\n",
    "    std_dev = round(np.std(team.scores[0:week]),1)\n",
    "    team.std_dev = std_dev\n",
    "    std_dev_list.append(team.std_dev)\n",
    "teams = pd.DataFrame({'team': tm_nm_list})\n",
    "teams['Owner'] = abbrev\n",
    "teams = teams.set_index('Owner')\n",
    "teams['Wins'] = wins\n",
    "teams['Losses'] = losses\n",
    "teams['PPG'] = ppg_list\n",
    "teams['std_dev'] = std_dev_list\n",
    "# Change this later but let's make up wins and losses\n",
    "teams['Wins']   = [5,4,3,3,2,2,1,0]\n",
    "teams['Losses'] = [0,1,2,2,3,3,4,5]\n",
    "teams.sort_values(by='Wins', ascending=False)"
   ]
  },
  {
   "cell_type": "code",
   "execution_count": 15,
   "metadata": {},
   "outputs": [
    {
     "data": {
      "text/plain": [
       "0"
      ]
     },
     "execution_count": 15,
     "metadata": {},
     "output_type": "execute_result"
    },
    {
     "data": {
      "text/plain": [
       "107.6"
      ]
     },
     "execution_count": 15,
     "metadata": {},
     "output_type": "execute_result"
    },
    {
     "data": {
      "text/plain": [
       "19.4"
      ]
     },
     "execution_count": 15,
     "metadata": {},
     "output_type": "execute_result"
    },
    {
     "data": {
      "text/plain": [
       "[Team(Winning is just my Forte),\n",
       " Team(Kirk and Dak LLC),\n",
       " Team(I Have Adrian ... Again),\n",
       " Team(U of Cal - Berk Oski the Bear),\n",
       " Team(Kelce  Kapistrant),\n",
       " Team(Reigning  Champion)]"
      ]
     },
     "execution_count": 15,
     "metadata": {},
     "output_type": "execute_result"
    },
    {
     "data": {
      "text/plain": [
       "array([116.74333939, 141.92752343,  84.271753  , 106.77197973,\n",
       "        85.86867931, 164.25053047])"
      ]
     },
     "execution_count": 15,
     "metadata": {},
     "output_type": "execute_result"
    }
   ],
   "source": [
    "for team in league.teams:\n",
    "    team.sim_wins   = 0\n",
    "    team.sim_losses = 0\n",
    "nick = league.teams[0]\n",
    "nick.sim_wins\n",
    "nick.ppg\n",
    "nick.std_dev\n",
    "nick.schedule[week:11]\n",
    "\n",
    "# Start\n",
    "for team in league.teams:\n",
    "    team.sim_weeks = np.random.normal(team.ppg, team.std_dev, num_weeks-week)"
   ]
  },
  {
   "cell_type": "code",
   "execution_count": null,
   "metadata": {},
   "outputs": [],
   "source": []
  }
 ],
 "metadata": {
  "kernelspec": {
   "display_name": "Python 3",
   "language": "python",
   "name": "python3"
  },
  "language_info": {
   "codemirror_mode": {
    "name": "ipython",
    "version": 3
   },
   "file_extension": ".py",
   "mimetype": "text/x-python",
   "name": "python",
   "nbconvert_exporter": "python",
   "pygments_lexer": "ipython3",
   "version": "3.6.4"
  }
 },
 "nbformat": 4,
 "nbformat_minor": 2
}
